{
 "cells": [
  {
   "cell_type": "markdown",
   "id": "26e8690f",
   "metadata": {},
   "source": [
    "# Assignment #3: Statistical Methods [EXTRA CREDIT]\n",
    "\n",
    "In this assignment, you'll demonstrate your understanding of the statistical methods we've covered in class. These include basic statistical methods such as the mean and median, performing a linear regression to predict future data points based on prior data points and self-learning of creating a simulation by repeatedly replicating an event."
   ]
  },
  {
   "cell_type": "markdown",
   "id": "5320c449",
   "metadata": {},
   "source": [
    "## Simulating Coin Flips\n",
    "\n",
    "In these questions, you'll work toward creating a simulation. The simulated event will be flipping a coin ten (10) times. You will replicate the event 100000 times, and then plot the distribution of outcomes. Each question below will build toward running the simulation and plottin ghte results."
   ]
  },
  {
   "cell_type": "code",
   "execution_count": 3,
   "id": "7d3497b5",
   "metadata": {},
   "outputs": [],
   "source": [
    "# Import the libraries you'll need for the simulation\n",
    "import pandas\n",
    "import random"
   ]
  },
  {
   "cell_type": "markdown",
   "id": "5213237d",
   "metadata": {},
   "source": [
    "Write a line of code that randomly selects a number between 1 and 52"
   ]
  },
  {
   "cell_type": "code",
   "execution_count": null,
   "id": "68a02110",
   "metadata": {},
   "outputs": [],
   "source": []
  },
  {
   "cell_type": "markdown",
   "id": "bd788e18",
   "metadata": {},
   "source": [
    "Write a line of code that randomly generates a number that is either 1 or 2"
   ]
  },
  {
   "cell_type": "code",
   "execution_count": null,
   "id": "cc1af080",
   "metadata": {},
   "outputs": [],
   "source": []
  },
  {
   "cell_type": "markdown",
   "id": "6b38f993",
   "metadata": {},
   "source": [
    "Write a loop that prints out the word \"hello\" ten times. (You will likely want to use the \"range\"function.)"
   ]
  },
  {
   "cell_type": "code",
   "execution_count": null,
   "id": "62fb91d4",
   "metadata": {},
   "outputs": [],
   "source": []
  },
  {
   "cell_type": "markdown",
   "id": "bf175ff0",
   "metadata": {},
   "source": [
    "Write two lines of code. In the first line, create an empty list and assign it to a variable. In the second line, add something to that list."
   ]
  },
  {
   "cell_type": "code",
   "execution_count": null,
   "id": "8cea50e3",
   "metadata": {},
   "outputs": [],
   "source": []
  },
  {
   "cell_type": "markdown",
   "id": "d516d5f3",
   "metadata": {},
   "source": [
    "In the code below, a list is defined. Write two more lines of code, a line of code to transform it to a Pandas series and assign to a variable, and another to get the mean using the .mean() method."
   ]
  },
  {
   "cell_type": "code",
   "execution_count": 20,
   "id": "e22b2741",
   "metadata": {},
   "outputs": [],
   "source": [
    "budget = [50, 55, 40, 70, 50]\n",
    "\n"
   ]
  },
  {
   "cell_type": "markdown",
   "id": "4c2d022b",
   "metadata": {},
   "source": [
    "Write a function that flips 10 coins. If the coin is tails, score it as a 1. If the coin is heads, score it as a two. Add up all the flips and return the result. (This is like our roll dice function, but with two possible results instead of 6. You won't need the iterations part, just use the number 10 instead of the iterations variable.) I've written the first line for you."
   ]
  },
  {
   "cell_type": "code",
   "execution_count": 66,
   "id": "df2d4c3e",
   "metadata": {},
   "outputs": [],
   "source": [
    "def flip_10_coins():\n",
    "    pass # Delete this line and write your code here\n",
    "\n"
   ]
  },
  {
   "cell_type": "markdown",
   "id": "5cf25e98",
   "metadata": {},
   "source": [
    "Write a function to run the `flip_10_coins` function 100000 times. (If you're consulting the class notebook, you don't need the iterations variable, just use the number 100000.)"
   ]
  },
  {
   "cell_type": "code",
   "execution_count": 64,
   "id": "d47c6e8c",
   "metadata": {},
   "outputs": [],
   "source": [
    "def run_simulation():\n",
    "    pass # Delete this line and write your code here"
   ]
  },
  {
   "cell_type": "markdown",
   "id": "0823b693",
   "metadata": {},
   "source": [
    "Run your simulation (by running the run_simulation function) and create a histogram using the `.plot(kind='hist')` method."
   ]
  },
  {
   "cell_type": "code",
   "execution_count": null,
   "id": "635f7d9f",
   "metadata": {},
   "outputs": [],
   "source": []
  },
  {
   "cell_type": "markdown",
   "id": "d698f5b6",
   "metadata": {},
   "source": [
    "# Linear Regression"
   ]
  },
  {
   "cell_type": "code",
   "execution_count": 4,
   "id": "2df971dc",
   "metadata": {},
   "outputs": [],
   "source": [
    "# Import some data \n",
    "df = pandas.read_csv('https://raw.githubusercontent.com/sha256rma/foundations-of-data-science/refs/heads/main/datasets/ice_cream.csv')"
   ]
  },
  {
   "cell_type": "markdown",
   "id": "0edbb6f8",
   "metadata": {},
   "source": [
    "Print out the columns of the data frame."
   ]
  },
  {
   "cell_type": "code",
   "execution_count": null,
   "id": "a9628db7",
   "metadata": {},
   "outputs": [],
   "source": []
  },
  {
   "cell_type": "markdown",
   "id": "7d3e04b6",
   "metadata": {},
   "source": [
    "Create a scatterplot of revenue and temperature."
   ]
  },
  {
   "cell_type": "code",
   "execution_count": null,
   "id": "c7b3dd2b",
   "metadata": {},
   "outputs": [],
   "source": []
  },
  {
   "cell_type": "markdown",
   "id": "e66a1a4e",
   "metadata": {},
   "source": [
    "Describe the relationship between temperature and revenue that you see in the plot in a sentence or short paragraph."
   ]
  },
  {
   "cell_type": "markdown",
   "id": "ca76bbcd",
   "metadata": {},
   "source": []
  },
  {
   "cell_type": "markdown",
   "id": "f647848d",
   "metadata": {},
   "source": [
    "What is a linear regression? In your own words, describe how a linear regression works and why in might be useful in examples such as the above about ice cream and temperature, or in cases like our electric car example from class. Give your response in the form of a short paragraph."
   ]
  },
  {
   "cell_type": "markdown",
   "id": "d90caa5e",
   "metadata": {},
   "source": []
  },
  {
   "cell_type": "markdown",
   "id": "ecd5eb56",
   "metadata": {},
   "source": [
    "Use the rest of the notebook to calculate a linear regression and plot it on a scatter plot. It may be easier to use matplotlib.pyplot to plot two items at once on the same graph. Feel free to consult our class notebook on linear regression."
   ]
  },
  {
   "cell_type": "code",
   "execution_count": 13,
   "id": "b538627f",
   "metadata": {},
   "outputs": [],
   "source": [
    "# You might be able to do it without pyplot, but it can help\n",
    "import matplotlib.pyplot as plt\n",
    "from sklearn.linear_model import LinearRegression"
   ]
  },
  {
   "cell_type": "code",
   "execution_count": null,
   "id": "77c4e118",
   "metadata": {},
   "outputs": [],
   "source": []
  },
  {
   "cell_type": "code",
   "execution_count": null,
   "id": "c1f9ba72",
   "metadata": {},
   "outputs": [],
   "source": []
  }
 ],
 "metadata": {
  "kernelspec": {
   "display_name": "Python 3",
   "language": "python",
   "name": "python3"
  },
  "language_info": {
   "codemirror_mode": {
    "name": "ipython",
    "version": 3
   },
   "file_extension": ".py",
   "mimetype": "text/x-python",
   "name": "python",
   "nbconvert_exporter": "python",
   "pygments_lexer": "ipython3",
   "version": "3.10.12"
  }
 },
 "nbformat": 4,
 "nbformat_minor": 5
}
