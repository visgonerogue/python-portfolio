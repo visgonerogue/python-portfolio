{
 "cells": [
  {
   "cell_type": "markdown",
   "id": "a04bb71e",
   "metadata": {},
   "source": [
    "# Types\n",
    "\n",
    "There are four cells below. In each cell, give an example of the Python datatypes discussed in class."
   ]
  },
  {
   "cell_type": "code",
   "execution_count": 1,
   "id": "ee549a32",
   "metadata": {},
   "outputs": [
    {
     "data": {
      "text/plain": [
       "int"
      ]
     },
     "execution_count": 1,
     "metadata": {},
     "output_type": "execute_result"
    }
   ],
   "source": [
    "type(1)"
   ]
  },
  {
   "cell_type": "code",
   "execution_count": 2,
   "id": "961a260b",
   "metadata": {},
   "outputs": [
    {
     "data": {
      "text/plain": [
       "str"
      ]
     },
     "execution_count": 2,
     "metadata": {},
     "output_type": "execute_result"
    }
   ],
   "source": [
    "type(\"Hi!\")"
   ]
  },
  {
   "cell_type": "code",
   "execution_count": 3,
   "id": "e1006564",
   "metadata": {},
   "outputs": [
    {
     "data": {
      "text/plain": [
       "bool"
      ]
     },
     "execution_count": 3,
     "metadata": {},
     "output_type": "execute_result"
    }
   ],
   "source": [
    "type(True)"
   ]
  },
  {
   "cell_type": "code",
   "execution_count": 4,
   "id": "fbae5830",
   "metadata": {},
   "outputs": [
    {
     "data": {
      "text/plain": [
       "list"
      ]
     },
     "execution_count": 4,
     "metadata": {},
     "output_type": "execute_result"
    }
   ],
   "source": [
    "type([1, 4, 2, 99])"
   ]
  },
  {
   "cell_type": "code",
   "execution_count": 5,
   "id": "34a098b5",
   "metadata": {},
   "outputs": [
    {
     "data": {
      "text/plain": [
       "float"
      ]
     },
     "execution_count": 5,
     "metadata": {},
     "output_type": "execute_result"
    }
   ],
   "source": [
    "type(1.1)"
   ]
  },
  {
   "cell_type": "markdown",
   "id": "a06efe4f",
   "metadata": {},
   "source": [
    "# Variables\n",
    "\n",
    "In the following cell, assign two variables, then perform some operation on both. (For example, you could add them together.)"
   ]
  },
  {
   "cell_type": "code",
   "execution_count": 6,
   "id": "a6f79b92",
   "metadata": {},
   "outputs": [],
   "source": [
    "my_variable = \"Good\""
   ]
  },
  {
   "cell_type": "code",
   "execution_count": 7,
   "id": "11c60464",
   "metadata": {},
   "outputs": [],
   "source": [
    "my_variable2 = \"Morning\""
   ]
  },
  {
   "cell_type": "code",
   "execution_count": 8,
   "id": "78694e4e",
   "metadata": {},
   "outputs": [
    {
     "data": {
      "text/plain": [
       "'GoodMorning'"
      ]
     },
     "execution_count": 8,
     "metadata": {},
     "output_type": "execute_result"
    }
   ],
   "source": [
    "my_variable + my_variable2"
   ]
  },
  {
   "cell_type": "markdown",
   "id": "21415a87",
   "metadata": {},
   "source": [
    "Let's add a space using f strings..."
   ]
  },
  {
   "cell_type": "code",
   "execution_count": 9,
   "id": "7bf8a5ff",
   "metadata": {},
   "outputs": [
    {
     "name": "stdout",
     "output_type": "stream",
     "text": [
      "Good Morning\n"
     ]
    }
   ],
   "source": [
    "print(f\"{my_variable} {my_variable2}\")"
   ]
  },
  {
   "cell_type": "markdown",
   "id": "f27c51d6",
   "metadata": {},
   "source": [
    "# Comparison\n",
    "\n",
    "In the following cell, compare two variables so that the output is True. (You can use >, <, == or any other comparison.)"
   ]
  },
  {
   "cell_type": "code",
   "execution_count": 10,
   "id": "f03eec1c",
   "metadata": {},
   "outputs": [
    {
     "data": {
      "text/plain": [
       "True"
      ]
     },
     "execution_count": 10,
     "metadata": {},
     "output_type": "execute_result"
    }
   ],
   "source": [
    "4 == 4"
   ]
  },
  {
   "cell_type": "markdown",
   "id": "fa6232bd",
   "metadata": {},
   "source": [
    "In the following cell, perform a comparison for which the output is False."
   ]
  },
  {
   "cell_type": "code",
   "execution_count": 12,
   "id": "4ae5251d",
   "metadata": {},
   "outputs": [
    {
     "data": {
      "text/plain": [
       "False"
      ]
     },
     "execution_count": 12,
     "metadata": {},
     "output_type": "execute_result"
    }
   ],
   "source": [
    "4 > 9"
   ]
  },
  {
   "cell_type": "markdown",
   "id": "8cab8764",
   "metadata": {},
   "source": [
    "# Conditionals\n",
    "\n",
    "In the cell below, write an \"if\" statement that ends in an \"else\" statement."
   ]
  },
  {
   "cell_type": "code",
   "execution_count": null,
   "id": "f7523751",
   "metadata": {},
   "outputs": [],
   "source": []
  },
  {
   "cell_type": "markdown",
   "id": "9d28b502",
   "metadata": {},
   "source": [
    "# Loops\n",
    "\n",
    "In the cell below, a list is defined with five numbers. In the cell after the list, write a for loop that adds 10 to each number and prints the output.\n",
    "\n",
    "Don't forget to run the cell with the list in it, or it won't get loaded into the computer's memory."
   ]
  },
  {
   "cell_type": "code",
   "execution_count": 15,
   "id": "e3031a71",
   "metadata": {},
   "outputs": [],
   "source": [
    "numbers = [50, 7, 15, 30, 33]"
   ]
  },
  {
   "cell_type": "code",
   "execution_count": 16,
   "id": "4a3a73e3",
   "metadata": {},
   "outputs": [
    {
     "name": "stdout",
     "output_type": "stream",
     "text": [
      "The value is: 50\n",
      "The number is seven...\n",
      "The number was less than 30 and not 7\n",
      "The value is: 30\n",
      "The value is: 33\n"
     ]
    }
   ],
   "source": [
    "for number in numbers:\n",
    "    if number >= 30:\n",
    "        print(f\"The value is: {number}\")\n",
    "    elif number == 7:\n",
    "        print(\"The number is seven...\")\n",
    "    else:\n",
    "        print(\"The number was less than 30 and not 7\")"
   ]
  },
  {
   "cell_type": "code",
   "execution_count": 17,
   "id": "b446b79a",
   "metadata": {},
   "outputs": [
    {
     "data": {
      "text/plain": [
       "['Mary', 'John', 'clark', 'Margaret']"
      ]
     },
     "execution_count": 17,
     "metadata": {},
     "output_type": "execute_result"
    }
   ],
   "source": [
    "names = ['Mary', 'John', \"clark\", 'Margaret']\n",
    "names"
   ]
  },
  {
   "cell_type": "code",
   "execution_count": 18,
   "id": "b0c7e402",
   "metadata": {},
   "outputs": [
    {
     "name": "stdout",
     "output_type": "stream",
     "text": [
      "The student names are: Mary\n",
      "The student names are: John\n",
      "The student names are: clark\n",
      "The student names are: Margaret\n"
     ]
    }
   ],
   "source": [
    "for name in names:\n",
    "    print(f\"The student names are: {name}\")"
   ]
  },
  {
   "cell_type": "code",
   "execution_count": 19,
   "id": "423b6409",
   "metadata": {},
   "outputs": [
    {
     "name": "stdout",
     "output_type": "stream",
     "text": [
      "The student names are: Mary\n",
      "The student names are: John\n",
      "The student names are: clark\n",
      "The student names are: Margaret\n"
     ]
    }
   ],
   "source": [
    "for name in names:\n",
    "    print(\"The student names are:\", name)"
   ]
  }
 ],
 "metadata": {
  "kernelspec": {
   "display_name": "Python 3 (ipykernel)",
   "language": "python",
   "name": "python3"
  },
  "language_info": {
   "codemirror_mode": {
    "name": "ipython",
    "version": 3
   },
   "file_extension": ".py",
   "mimetype": "text/x-python",
   "name": "python",
   "nbconvert_exporter": "python",
   "pygments_lexer": "ipython3",
   "version": "3.12.4"
  }
 },
 "nbformat": 4,
 "nbformat_minor": 5
}
