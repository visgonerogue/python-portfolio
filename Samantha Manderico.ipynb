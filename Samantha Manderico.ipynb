{
 "cells": [
  {
   "cell_type": "markdown",
   "id": "4256dc96",
   "metadata": {},
   "source": [
    "# Assignment #1: Evaluate Data Set\n",
    "\n",
    "In your first graded assignment for this course, you will find and evaluate a data set on a topic of your choosing. You will be given specific questions related to the data set, and you will also be tasked with importing the data from your data set into your Jupyter Notebook environment. \n",
    "\n",
    "## Choose a Broad Topic\n",
    "\n",
    "First, choose a topic of interest to you, such as a specific social issue, a political or cultural trend, a community, or a hobby or personal interest. Ideally, it should be something relatively broad that society or culture is having some sort of conversation about, or which many people think about on a regular basis. Possible examples might be:\n",
    "\n",
    "- Housing and rental prices in New York City\n",
    "- A popular genre of music\n",
    "- A sport\n",
    "- Food prices\n",
    "- Crime\n",
    "- Government spending\n",
    "- Popularity of movies or TV shows \n",
    "- Bestselling books\n",
    "\n",
    "## Find a Data Set\n",
    "\n",
    "Search for terms related to your topic on Google, both generally and by adding specific names of websites where data will commonly be found. The following websites are frequently places to find data sets, and it sometimes makes sense to both search directly on the site and to do regular Google searches with the site name:\n",
    "\n",
    "- [Google Data Set Search](https://datasetsearch.research.google.com/)\n",
    "- [GitHub](https://github.com/)\n",
    "- [Kaggle](https://www.kaggle.com/)\n",
    "- [Data.gov](https://www.data.gov/)\n",
    "\n",
    "For example, if your topic is bestselling books, you might try these searches on Google:\n",
    "\n",
    "- bestselling books data set\n",
    "- bestselling books data set kaggle\n",
    "- bestselling books data set github\n",
    "- bestselling books data set \n",
    "\n",
    "You're not likely to find bestselling books data on data.gov, but you might find a lot of info related to health, the economy, and demographics, since that's what the government is most concerned about."
   ]
  },
  {
   "cell_type": "markdown",
   "id": "1c1a8105",
   "metadata": {},
   "source": [
    "-----"
   ]
  },
  {
   "cell_type": "markdown",
   "id": "9be8caee",
   "metadata": {},
   "source": [
    "What is your topic? (Enter responses to questions like these in the cell provided below.)"
   ]
  },
  {
   "cell_type": "markdown",
   "id": "c9702a5b",
   "metadata": {},
   "source": [
    "Harry Potter Screentime"
   ]
  },
  {
   "cell_type": "markdown",
   "id": "e2b8f153",
   "metadata": {},
   "source": [
    "What drew you to this topic, or why did you choose it?"
   ]
  },
  {
   "cell_type": "markdown",
   "id": "359d76a7",
   "metadata": {},
   "source": [
    "I love Harry Potter and was drawn to how much screentime it had."
   ]
  },
  {
   "cell_type": "markdown",
   "id": "20048152",
   "metadata": {},
   "source": [
    "## Choose a Data Set\n",
    "\n",
    "Choose a data set to use for the rest of this assignment. The data set doesn't need to be perfect, but ideally it should interest you and be in one of the discussed formats (CSV, TSV, Excel, JSON, .txt). If the data is in another format, either reach out to me to ask about it or choose another data set for this assignment. You may want to look ahead to the rest of this assignment to make sure nothing about the data set will make it difficult to answer the questions or to import the data."
   ]
  },
  {
   "cell_type": "markdown",
   "id": "5e869d8d",
   "metadata": {},
   "source": [
    "What is the name of your data set? Or provide a one-sentence description."
   ]
  },
  {
   "cell_type": "markdown",
   "id": "2ddf052f",
   "metadata": {},
   "source": [
    "The Screentime of each Harry Potter movie."
   ]
  },
  {
   "cell_type": "raw",
   "id": "01afd4d3-399c-449c-9e8b-43643df6eb41",
   "metadata": {
    "scrolled": true
   },
   "source": [
    "What is the URL of the page on which you found the data set? (Paste the full URL.)"
   ]
  },
  {
   "cell_type": "markdown",
   "id": "0f32ce9b-b687-4899-b0a8-922f47fe3758",
   "metadata": {},
   "source": [
    "https://query.data.world/s/dgcdr4u2u3eyd5v7jvdaesta5kps?dws=00000"
   ]
  },
  {
   "cell_type": "markdown",
   "id": "4d16c0fa",
   "metadata": {},
   "source": [
    "## Evaluation\n",
    "\n",
    "In this step, you will evaluate the data to the extent possible without using data science tools like Python or Pandas. You should download the data to your computer, and use both the data set itself as downloaded and the page you found it on to answer these questions. If you can't answer a question, write what you tried to do to answer it—don't give up right away, and try to think of other ways to answer the question. (In some cases, you can even contact the person who created the data set—if you do so, feel free to copy me on the email.)"
   ]
  },
  {
   "cell_type": "markdown",
   "id": "ba3a6174",
   "metadata": {},
   "source": [
    "What is the file format or file extension of the data set? Examples might be .csv (Comma Seperated Values), .tsv (Tab Separated Values), .xlsx (Excel workbook), .txt (plain text file), or JSON (JavaScript Object Notation)."
   ]
  },
  {
   "cell_type": "markdown",
   "id": "d17ed7a7",
   "metadata": {},
   "source": [
    "csv"
   ]
  },
  {
   "cell_type": "markdown",
   "id": "6880764f",
   "metadata": {},
   "source": [
    "What is the size in megabytes (MB)or gigabytes (GB) of the data set?"
   ]
  },
  {
   "cell_type": "markdown",
   "id": "621b781a",
   "metadata": {},
   "source": [
    "10.33(KB)"
   ]
  },
  {
   "cell_type": "markdown",
   "id": "e8ba770e",
   "metadata": {},
   "source": [
    "How many columns or fields is the data set? (Columns or fields are different types of data—for example, a book dataset might have title, author, and year as columns.)"
   ]
  },
  {
   "cell_type": "markdown",
   "id": "41ed02fa",
   "metadata": {},
   "source": [
    "15 columns"
   ]
  },
  {
   "cell_type": "markdown",
   "id": "747cbbcb",
   "metadata": {},
   "source": [
    "List out the columns in the data set. (You can put each column on a line, or you can separate the columns with commas.)"
   ]
  },
  {
   "cell_type": "markdown",
   "id": "a63d096c",
   "metadata": {},
   "source": [
    "position,const,created,modified,description,title,url,title_type,imdb_rating,runtime_mins,year,genres,num_votes,release_date,directors"
   ]
  },
  {
   "cell_type": "markdown",
   "id": "799b491b",
   "metadata": {},
   "source": [
    "How many rows is the data set? (To use the book data set example again, each row might represent one book.)"
   ]
  },
  {
   "cell_type": "markdown",
   "id": "05e6b9ae",
   "metadata": {},
   "source": [
    "8"
   ]
  },
  {
   "cell_type": "markdown",
   "id": "9b82706b",
   "metadata": {},
   "source": [
    "What types of data appear in the data set? (You can use Python terms, like \"integer,\" \"float,\" \"boolean,\" \"string,\" or you can use other descriptive terms, like \"numeric data\" or \"text data.\" Try to be as comprehensive as possible in your answer."
   ]
  },
  {
   "cell_type": "markdown",
   "id": "bded6448",
   "metadata": {},
   "source": [
    "text data and query"
   ]
  },
  {
   "cell_type": "markdown",
   "id": "ae154ab5",
   "metadata": {},
   "source": [
    "On initial inspection, does anything appear to be missing or wrong in the data set? (Don't spend too long on this.)"
   ]
  },
  {
   "cell_type": "markdown",
   "id": "89d2e870",
   "metadata": {},
   "source": [
    "nothing seems off"
   ]
  },
  {
   "cell_type": "markdown",
   "id": "30d0ccf4",
   "metadata": {},
   "source": [
    "What kinds of questions could you answer with this data set? In answering this question, write at least one paragraph of at least 150 words."
   ]
  },
  {
   "cell_type": "markdown",
   "id": "ed19997b",
   "metadata": {},
   "source": [
    "As someone who has been a Harry Potter fan since I was younger, my questions would be,\"Which character has the most screentime across all the films?\" and this can maybe show for a comparison of the roles prominence throughout the series. On other questions would be, How does the screentime of secondary characters like Dobby or Luna Lovegood compare to that of the main trio?\", and this question can help benefit the assess of how much attention the filmmakers gave to the supporting roles rather than the main cast."
   ]
  },
  {
   "cell_type": "markdown",
   "id": "5fbbecb7",
   "metadata": {},
   "source": [
    "Do you see any issues or limitations with the data set? Alternatively, what do you wish was included in the data set that is not included? (Write at least one paragraph of at least 150 words.)"
   ]
  },
  {
   "cell_type": "markdown",
   "id": "e4ab6eff",
   "metadata": {},
   "source": [
    "For me, I feel like the data set could have used more information within the characters and the movie sequences, especially; the characters. I think if they have considered more of the characters of each movie of the Harry Potter franchise, I think it can affect for the better of the data set."
   ]
  },
  {
   "cell_type": "markdown",
   "id": "18f10308",
   "metadata": {},
   "source": [
    "## Reading the Data in Python\n",
    "\n",
    "Using as many cells as you need in the rest of this notebook, load the data into Python. You will probably want to use Pandas to load the data. Some example code is provided for you below. \n",
    "\n",
    "To use the example code in a Jupyter Notebook on your computer, you will need to make sure your data set is in the same folder as your notebook, and that you get the filename *exactly* right, including the extension. Here is example code for a Jupyter Notebook—this is just to get you started, and you are responsible for getting this working, which may involve looking up how to import data using Python and Pandas on Google.\n",
    "\n",
    "```python\n",
    "import pandas\n",
    "\n",
    "df = pandas.read_csv('name_of_data_file.csv')\n",
    "\n",
    "df\n",
    "```\n",
    "\n",
    "If your data is in another format, you will need to use the Pandas function related to that format. For example, to import JSON:\n",
    "\n",
    "```python\n",
    "import pandas\n",
    "\n",
    "df = pandas.read_json('name_of_data_file.json')\n",
    "\n",
    "df\n",
    "```\n",
    "\n",
    "Use as much space as you need below to import the file into Pandas (as above). Make sure the dataframe (df) is shown as an output at the end.\n"
   ]
  },
  {
   "cell_type": "code",
   "execution_count": 51,
   "id": "d318f006-b388-4020-adb4-01dc52f819e0",
   "metadata": {},
   "outputs": [],
   "source": [
    "import pandas as pd"
   ]
  },
  {
   "cell_type": "code",
   "execution_count": 52,
   "id": "629db7dc-7b33-4d9e-b986-30ff7d534367",
   "metadata": {
    "scrolled": true
   },
   "outputs": [],
   "source": [
    "df = pd.read_csv('harry-potter-screen-time-QueryResult.csv')"
   ]
  },
  {
   "cell_type": "code",
   "execution_count": 53,
   "id": "4712f747-6298-4e84-a70b-972cceca6386",
   "metadata": {
    "scrolled": true
   },
   "outputs": [
    {
     "data": {
      "text/html": [
       "<div>\n",
       "<style scoped>\n",
       "    .dataframe tbody tr th:only-of-type {\n",
       "        vertical-align: middle;\n",
       "    }\n",
       "\n",
       "    .dataframe tbody tr th {\n",
       "        vertical-align: top;\n",
       "    }\n",
       "\n",
       "    .dataframe thead th {\n",
       "        text-align: right;\n",
       "    }\n",
       "</style>\n",
       "<table border=\"1\" class=\"dataframe\">\n",
       "  <thead>\n",
       "    <tr style=\"text-align: right;\">\n",
       "      <th></th>\n",
       "      <th>position</th>\n",
       "      <th>const</th>\n",
       "      <th>created</th>\n",
       "      <th>modified</th>\n",
       "      <th>description</th>\n",
       "      <th>title</th>\n",
       "      <th>url</th>\n",
       "      <th>title_type</th>\n",
       "      <th>imdb_rating</th>\n",
       "      <th>runtime_mins</th>\n",
       "      <th>year</th>\n",
       "      <th>genres</th>\n",
       "      <th>num_votes</th>\n",
       "      <th>release_date</th>\n",
       "      <th>directors</th>\n",
       "    </tr>\n",
       "  </thead>\n",
       "  <tbody>\n",
       "    <tr>\n",
       "      <th>0</th>\n",
       "      <td>1</td>\n",
       "      <td>tt0241527</td>\n",
       "      <td>2017-12-24</td>\n",
       "      <td>2017-12-24</td>\n",
       "      <td>Harry Potter &lt;72:45&gt;\\nRon Weasley &lt;28:15&gt;\\nHer...</td>\n",
       "      <td>Harry Potter and the Sorcerer's Stone</td>\n",
       "      <td>https://www.imdb.com/title/tt0241527/</td>\n",
       "      <td>movie</td>\n",
       "      <td>7.6</td>\n",
       "      <td>152</td>\n",
       "      <td>2001</td>\n",
       "      <td>Adventure, Family, Fantasy</td>\n",
       "      <td>650096</td>\n",
       "      <td>2001-11-04</td>\n",
       "      <td>Chris Columbus</td>\n",
       "    </tr>\n",
       "    <tr>\n",
       "      <th>1</th>\n",
       "      <td>2</td>\n",
       "      <td>tt0295297</td>\n",
       "      <td>2017-12-24</td>\n",
       "      <td>2017-12-24</td>\n",
       "      <td>Harry Potter &lt;83:45&gt;\\nRon Weasley &lt;38:15&gt;\\nHer...</td>\n",
       "      <td>Harry Potter and the Chamber of Secrets</td>\n",
       "      <td>https://www.imdb.com/title/tt0295297/</td>\n",
       "      <td>movie</td>\n",
       "      <td>7.4</td>\n",
       "      <td>161</td>\n",
       "      <td>2002</td>\n",
       "      <td>Adventure, Family, Fantasy, Mystery</td>\n",
       "      <td>550312</td>\n",
       "      <td>2002-11-03</td>\n",
       "      <td>Chris Columbus</td>\n",
       "    </tr>\n",
       "    <tr>\n",
       "      <th>2</th>\n",
       "      <td>3</td>\n",
       "      <td>tt0304141</td>\n",
       "      <td>2017-12-24</td>\n",
       "      <td>2017-12-26</td>\n",
       "      <td>Harry Potter &lt;74:30&gt;\\nHermione Granger &lt;34:45&gt;...</td>\n",
       "      <td>Harry Potter and the Prisoner of Azkaban</td>\n",
       "      <td>https://www.imdb.com/title/tt0304141/</td>\n",
       "      <td>movie</td>\n",
       "      <td>7.9</td>\n",
       "      <td>142</td>\n",
       "      <td>2004</td>\n",
       "      <td>Adventure, Family, Fantasy, Mystery</td>\n",
       "      <td>547889</td>\n",
       "      <td>2004-05-23</td>\n",
       "      <td>Alfonso Cuarón</td>\n",
       "    </tr>\n",
       "    <tr>\n",
       "      <th>3</th>\n",
       "      <td>4</td>\n",
       "      <td>tt0330373</td>\n",
       "      <td>2017-12-24</td>\n",
       "      <td>2018-05-03</td>\n",
       "      <td>Harry Potter &lt;63:15&gt;\\nRon Weasley &lt;20:30&gt;\\nHer...</td>\n",
       "      <td>Harry Potter and the Goblet of Fire</td>\n",
       "      <td>https://www.imdb.com/title/tt0330373/</td>\n",
       "      <td>movie</td>\n",
       "      <td>7.7</td>\n",
       "      <td>157</td>\n",
       "      <td>2005</td>\n",
       "      <td>Adventure, Family, Fantasy, Mystery</td>\n",
       "      <td>544246</td>\n",
       "      <td>2005-11-06</td>\n",
       "      <td>Mike Newell</td>\n",
       "    </tr>\n",
       "    <tr>\n",
       "      <th>4</th>\n",
       "      <td>5</td>\n",
       "      <td>tt0373889</td>\n",
       "      <td>2017-12-24</td>\n",
       "      <td>2017-12-26</td>\n",
       "      <td>Harry Potter &lt;61:45&gt;\\nHermione Granger &lt;23&gt;\\nR...</td>\n",
       "      <td>Harry Potter and the Order of the Phoenix</td>\n",
       "      <td>https://www.imdb.com/title/tt0373889/</td>\n",
       "      <td>movie</td>\n",
       "      <td>7.5</td>\n",
       "      <td>138</td>\n",
       "      <td>2007</td>\n",
       "      <td>Action, Adventure, Family, Fantasy, Mystery</td>\n",
       "      <td>507042</td>\n",
       "      <td>2007-06-28</td>\n",
       "      <td>David Yates</td>\n",
       "    </tr>\n",
       "    <tr>\n",
       "      <th>5</th>\n",
       "      <td>6</td>\n",
       "      <td>tt0417741</td>\n",
       "      <td>2017-12-24</td>\n",
       "      <td>2017-12-26</td>\n",
       "      <td>Harry Potter &lt;67&gt;\\nProfessor Albus Dumbledore ...</td>\n",
       "      <td>Harry Potter and the Half-Blood Prince</td>\n",
       "      <td>https://www.imdb.com/title/tt0417741/</td>\n",
       "      <td>movie</td>\n",
       "      <td>7.6</td>\n",
       "      <td>153</td>\n",
       "      <td>2009</td>\n",
       "      <td>Action, Adventure, Family, Fantasy, Mystery</td>\n",
       "      <td>470620</td>\n",
       "      <td>2009-07-06</td>\n",
       "      <td>David Yates</td>\n",
       "    </tr>\n",
       "    <tr>\n",
       "      <th>6</th>\n",
       "      <td>7</td>\n",
       "      <td>tt0926084</td>\n",
       "      <td>2017-12-24</td>\n",
       "      <td>2017-12-26</td>\n",
       "      <td>Harry Potter &lt;68:15&gt;\\nHermione Granger &lt;46&gt;\\nR...</td>\n",
       "      <td>Harry Potter and the Deathly Hallows: Part 1</td>\n",
       "      <td>https://www.imdb.com/title/tt0926084/</td>\n",
       "      <td>movie</td>\n",
       "      <td>7.7</td>\n",
       "      <td>146</td>\n",
       "      <td>2010</td>\n",
       "      <td>Adventure, Family, Fantasy, Mystery</td>\n",
       "      <td>475018</td>\n",
       "      <td>2010-11-11</td>\n",
       "      <td>David Yates</td>\n",
       "    </tr>\n",
       "    <tr>\n",
       "      <th>7</th>\n",
       "      <td>8</td>\n",
       "      <td>tt1201607</td>\n",
       "      <td>2017-12-24</td>\n",
       "      <td>2019-12-03</td>\n",
       "      <td>Harry Potter &lt;48&gt;\\nHermione Granger &lt;26&gt;\\nRon ...</td>\n",
       "      <td>Harry Potter and the Deathly Hallows: Part 2</td>\n",
       "      <td>https://www.imdb.com/title/tt1201607/</td>\n",
       "      <td>movie</td>\n",
       "      <td>8.1</td>\n",
       "      <td>130</td>\n",
       "      <td>2011</td>\n",
       "      <td>Adventure, Drama, Fantasy, Mystery</td>\n",
       "      <td>758851</td>\n",
       "      <td>2011-07-07</td>\n",
       "      <td>David Yates</td>\n",
       "    </tr>\n",
       "  </tbody>\n",
       "</table>\n",
       "</div>"
      ],
      "text/plain": [
       "   position      const     created    modified  \\\n",
       "0         1  tt0241527  2017-12-24  2017-12-24   \n",
       "1         2  tt0295297  2017-12-24  2017-12-24   \n",
       "2         3  tt0304141  2017-12-24  2017-12-26   \n",
       "3         4  tt0330373  2017-12-24  2018-05-03   \n",
       "4         5  tt0373889  2017-12-24  2017-12-26   \n",
       "5         6  tt0417741  2017-12-24  2017-12-26   \n",
       "6         7  tt0926084  2017-12-24  2017-12-26   \n",
       "7         8  tt1201607  2017-12-24  2019-12-03   \n",
       "\n",
       "                                         description  \\\n",
       "0  Harry Potter <72:45>\\nRon Weasley <28:15>\\nHer...   \n",
       "1  Harry Potter <83:45>\\nRon Weasley <38:15>\\nHer...   \n",
       "2  Harry Potter <74:30>\\nHermione Granger <34:45>...   \n",
       "3  Harry Potter <63:15>\\nRon Weasley <20:30>\\nHer...   \n",
       "4  Harry Potter <61:45>\\nHermione Granger <23>\\nR...   \n",
       "5  Harry Potter <67>\\nProfessor Albus Dumbledore ...   \n",
       "6  Harry Potter <68:15>\\nHermione Granger <46>\\nR...   \n",
       "7  Harry Potter <48>\\nHermione Granger <26>\\nRon ...   \n",
       "\n",
       "                                          title  \\\n",
       "0         Harry Potter and the Sorcerer's Stone   \n",
       "1       Harry Potter and the Chamber of Secrets   \n",
       "2      Harry Potter and the Prisoner of Azkaban   \n",
       "3           Harry Potter and the Goblet of Fire   \n",
       "4     Harry Potter and the Order of the Phoenix   \n",
       "5        Harry Potter and the Half-Blood Prince   \n",
       "6  Harry Potter and the Deathly Hallows: Part 1   \n",
       "7  Harry Potter and the Deathly Hallows: Part 2   \n",
       "\n",
       "                                     url title_type  imdb_rating  \\\n",
       "0  https://www.imdb.com/title/tt0241527/      movie          7.6   \n",
       "1  https://www.imdb.com/title/tt0295297/      movie          7.4   \n",
       "2  https://www.imdb.com/title/tt0304141/      movie          7.9   \n",
       "3  https://www.imdb.com/title/tt0330373/      movie          7.7   \n",
       "4  https://www.imdb.com/title/tt0373889/      movie          7.5   \n",
       "5  https://www.imdb.com/title/tt0417741/      movie          7.6   \n",
       "6  https://www.imdb.com/title/tt0926084/      movie          7.7   \n",
       "7  https://www.imdb.com/title/tt1201607/      movie          8.1   \n",
       "\n",
       "   runtime_mins  year                                       genres  num_votes  \\\n",
       "0           152  2001                   Adventure, Family, Fantasy     650096   \n",
       "1           161  2002          Adventure, Family, Fantasy, Mystery     550312   \n",
       "2           142  2004          Adventure, Family, Fantasy, Mystery     547889   \n",
       "3           157  2005          Adventure, Family, Fantasy, Mystery     544246   \n",
       "4           138  2007  Action, Adventure, Family, Fantasy, Mystery     507042   \n",
       "5           153  2009  Action, Adventure, Family, Fantasy, Mystery     470620   \n",
       "6           146  2010          Adventure, Family, Fantasy, Mystery     475018   \n",
       "7           130  2011           Adventure, Drama, Fantasy, Mystery     758851   \n",
       "\n",
       "  release_date       directors  \n",
       "0   2001-11-04  Chris Columbus  \n",
       "1   2002-11-03  Chris Columbus  \n",
       "2   2004-05-23  Alfonso Cuarón  \n",
       "3   2005-11-06     Mike Newell  \n",
       "4   2007-06-28     David Yates  \n",
       "5   2009-07-06     David Yates  \n",
       "6   2010-11-11     David Yates  \n",
       "7   2011-07-07     David Yates  "
      ]
     },
     "execution_count": 53,
     "metadata": {},
     "output_type": "execute_result"
    }
   ],
   "source": [
    "df"
   ]
  }
 ],
 "metadata": {
  "kernelspec": {
   "display_name": "Python 3 (ipykernel)",
   "language": "python",
   "name": "python3"
  },
  "language_info": {
   "codemirror_mode": {
    "name": "ipython",
    "version": 3
   },
   "file_extension": ".py",
   "mimetype": "text/x-python",
   "name": "python",
   "nbconvert_exporter": "python",
   "pygments_lexer": "ipython3",
   "version": "3.12.4"
  }
 },
 "nbformat": 4,
 "nbformat_minor": 5
}
