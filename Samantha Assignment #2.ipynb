{
 "cells": [
  {
   "cell_type": "code",
   "execution_count": null,
   "id": "ebc39609-304e-4d16-b3ba-465a7f095d03",
   "metadata": {},
   "outputs": [],
   "source": [
    "# Assignment #2: Data Exploration\n",
    "\n",
    "In this assignment, you will demonstrate your knowledge of the Python and Pandas skills we've learned so far. These include:\n",
    "\n",
    "- Getting an overview of your data\n",
    "- Extracting columns\n",
    "- Removing duplicates from your data\n",
    "- Creating a subset of your data by matching a string\n",
    "- Getting a random sample of your data\n",
    "- Sorting your data \n",
    "- Getting fundamental statistical information of a series, such as the mean and median\n",
    "\n",
    "You will not need to formulate or answer a research question for this assignment. You simply need to demonstrate your ability to perform specific operations on the data set you have selected. In the next assignment, your midterm, you will create a narrative exploration of the data using many of the same methods, but in such a way as to use narrative along with data analysis to answer a research question.\n",
    "\n",
    "You may use the data set you imported in assignment #1, or you may choose another data set. That means that you can reuse code you wrote in Assignment #1 to import the data.\n",
    "\n",
    "In the below notebook, I will ask for you to perform a task. Each task will be followed by one or more blank code cells. Use as many cells as you need to complete the task. If you know some other way to complete the task with Python and/or Pandas that is not the way we learned in class, that is also acceptable. Feel free to use Google searches to refresh your memory as to how to perform each task. You will also likely wish to consult the class notebooks, which can be found in [our class repository on GitHub](https://github.com/sha256rma/foundations-of-data-science).\n",
    "\n",
    "If your data set does not have a needed form of data for a task, write code that would perform the task if a column with that data existed, and provide an explanation as a comment or markdown cell.\n",
    "\n",
    "You may receive partial credit for some incomplete or incorrect answers. Please feel free to add comments about your thought process, which will make it more likely that you will receive partial credit.\n",
    "\n",
    "The last cell is a bonus. You will not be penalized for not attempting or completing it.\n",
    "\n",
    "-----"
   ]
  },
  {
   "cell_type": "markdown",
   "id": "2bfcd632",
   "metadata": {},
   "source": [
    "Import Pandas and read your data in as a data frame. Assign the data frame to a variable, such as `df`."
   ]
  },
  {
   "cell_type": "code",
   "execution_count": 55,
   "id": "bf198c8b",
   "metadata": {},
   "outputs": [],
   "source": [
    "import pandas as pd"
   ]
  },
  {
   "cell_type": "code",
   "execution_count": 56,
   "id": "797c533d",
   "metadata": {},
   "outputs": [],
   "source": [
    "df= pd.read_csv('C:\\\\Users\\\\smand\\\\Downloads\\\\ccnyport\\\\harry-potter-screen-time-QueryResult.csv')"
   ]
  },
  {
   "cell_type": "markdown",
   "id": "a24891c9",
   "metadata": {},
   "source": [
    "Make the data frame visible by placing the data frame variable in a cell by itself."
   ]
  },
  {
   "cell_type": "code",
   "execution_count": 58,
   "id": "ccd666d6",
   "metadata": {},
   "outputs": [
    {
     "name": "stdout",
     "output_type": "stream",
     "text": [
      "   position      const     created    modified  \\\n",
      "0         1  tt0241527  2017-12-24  2017-12-24   \n",
      "1         2  tt0295297  2017-12-24  2017-12-24   \n",
      "2         3  tt0304141  2017-12-24  2017-12-26   \n",
      "3         4  tt0330373  2017-12-24  2018-05-03   \n",
      "4         5  tt0373889  2017-12-24  2017-12-26   \n",
      "5         6  tt0417741  2017-12-24  2017-12-26   \n",
      "6         7  tt0926084  2017-12-24  2017-12-26   \n",
      "7         8  tt1201607  2017-12-24  2019-12-03   \n",
      "\n",
      "                                         description  \\\n",
      "0  Harry Potter <72:45>\\nRon Weasley <28:15>\\nHer...   \n",
      "1  Harry Potter <83:45>\\nRon Weasley <38:15>\\nHer...   \n",
      "2  Harry Potter <74:30>\\nHermione Granger <34:45>...   \n",
      "3  Harry Potter <63:15>\\nRon Weasley <20:30>\\nHer...   \n",
      "4  Harry Potter <61:45>\\nHermione Granger <23>\\nR...   \n",
      "5  Harry Potter <67>\\nProfessor Albus Dumbledore ...   \n",
      "6  Harry Potter <68:15>\\nHermione Granger <46>\\nR...   \n",
      "7  Harry Potter <48>\\nHermione Granger <26>\\nRon ...   \n",
      "\n",
      "                                          title  \\\n",
      "0         Harry Potter and the Sorcerer's Stone   \n",
      "1       Harry Potter and the Chamber of Secrets   \n",
      "2      Harry Potter and the Prisoner of Azkaban   \n",
      "3           Harry Potter and the Goblet of Fire   \n",
      "4     Harry Potter and the Order of the Phoenix   \n",
      "5        Harry Potter and the Half-Blood Prince   \n",
      "6  Harry Potter and the Deathly Hallows: Part 1   \n",
      "7  Harry Potter and the Deathly Hallows: Part 2   \n",
      "\n",
      "                                     url title_type  imdb_rating  \\\n",
      "0  https://www.imdb.com/title/tt0241527/      movie          7.6   \n",
      "1  https://www.imdb.com/title/tt0295297/      movie          7.4   \n",
      "2  https://www.imdb.com/title/tt0304141/      movie          7.9   \n",
      "3  https://www.imdb.com/title/tt0330373/      movie          7.7   \n",
      "4  https://www.imdb.com/title/tt0373889/      movie          7.5   \n",
      "5  https://www.imdb.com/title/tt0417741/      movie          7.6   \n",
      "6  https://www.imdb.com/title/tt0926084/      movie          7.7   \n",
      "7  https://www.imdb.com/title/tt1201607/      movie          8.1   \n",
      "\n",
      "   runtime_mins  year                                       genres  num_votes  \\\n",
      "0           152  2001                   Adventure, Family, Fantasy     650096   \n",
      "1           161  2002          Adventure, Family, Fantasy, Mystery     550312   \n",
      "2           142  2004          Adventure, Family, Fantasy, Mystery     547889   \n",
      "3           157  2005          Adventure, Family, Fantasy, Mystery     544246   \n",
      "4           138  2007  Action, Adventure, Family, Fantasy, Mystery     507042   \n",
      "5           153  2009  Action, Adventure, Family, Fantasy, Mystery     470620   \n",
      "6           146  2010          Adventure, Family, Fantasy, Mystery     475018   \n",
      "7           130  2011           Adventure, Drama, Fantasy, Mystery     758851   \n",
      "\n",
      "  release_date       directors  \n",
      "0   2001-11-04  Chris Columbus  \n",
      "1   2002-11-03  Chris Columbus  \n",
      "2   2004-05-23  Alfonso Cuarón  \n",
      "3   2005-11-06     Mike Newell  \n",
      "4   2007-06-28     David Yates  \n",
      "5   2009-07-06     David Yates  \n",
      "6   2010-11-11     David Yates  \n",
      "7   2011-07-07     David Yates  \n"
     ]
    }
   ],
   "source": [
    "print(df)"
   ]
  },
  {
   "cell_type": "markdown",
   "id": "2bb0ff5d",
   "metadata": {},
   "source": [
    "What columns are in your data frame? Use a function or method that shows all the columns."
   ]
  },
  {
   "cell_type": "code",
   "execution_count": 60,
   "id": "eeaee6f1",
   "metadata": {},
   "outputs": [
    {
     "data": {
      "text/plain": [
       "Index(['position', 'const', 'created', 'modified', 'description', 'title',\n",
       "       'url', 'title_type', 'imdb_rating', 'runtime_mins', 'year', 'genres',\n",
       "       'num_votes', 'release_date', 'directors'],\n",
       "      dtype='object')"
      ]
     },
     "execution_count": 60,
     "metadata": {},
     "output_type": "execute_result"
    }
   ],
   "source": [
    "df.columns"
   ]
  },
  {
   "cell_type": "markdown",
   "id": "b06c4738",
   "metadata": {},
   "source": [
    "Write Python code to output the number of rows in your data frame."
   ]
  },
  {
   "cell_type": "code",
   "execution_count": 65,
   "id": "6323742f",
   "metadata": {},
   "outputs": [
    {
     "name": "stdout",
     "output_type": "stream",
     "text": [
      "8\n"
     ]
    }
   ],
   "source": [
    "num_rows = df.shape [0]\n",
    "print(num_rows)"
   ]
  },
  {
   "cell_type": "markdown",
   "id": "e8644b85",
   "metadata": {},
   "source": [
    "Write code to output a column from your data frame as a series. (Extract a column.)"
   ]
  },
  {
   "cell_type": "code",
   "execution_count": 63,
   "id": "6ed1a654",
   "metadata": {
    "scrolled": true
   },
   "outputs": [
    {
     "name": "stdout",
     "output_type": "stream",
     "text": [
      "0           Harry Potter and the Sorcerer's Stone\n",
      "1         Harry Potter and the Chamber of Secrets\n",
      "2        Harry Potter and the Prisoner of Azkaban\n",
      "3             Harry Potter and the Goblet of Fire\n",
      "4       Harry Potter and the Order of the Phoenix\n",
      "5          Harry Potter and the Half-Blood Prince\n",
      "6    Harry Potter and the Deathly Hallows: Part 1\n",
      "7    Harry Potter and the Deathly Hallows: Part 2\n",
      "Name: title, dtype: object\n"
     ]
    }
   ],
   "source": [
    "column_series = df['title']\n",
    "print(column_series)\n"
   ]
  },
  {
   "cell_type": "code",
   "execution_count": 67,
   "id": "da4ca19e",
   "metadata": {},
   "outputs": [
    {
     "name": "stdout",
     "output_type": "stream",
     "text": [
      "0    Chris Columbus\n",
      "1    Chris Columbus\n",
      "2    Alfonso Cuarón\n",
      "3       Mike Newell\n",
      "4       David Yates\n",
      "5       David Yates\n",
      "6       David Yates\n",
      "7       David Yates\n",
      "Name: directors, dtype: object\n"
     ]
    }
   ],
   "source": [
    "column_series = df['directors']\n",
    "print(column_series)"
   ]
  },
  {
   "cell_type": "markdown",
   "id": "af635ed6",
   "metadata": {},
   "source": [
    "### Read the example below to **count** duplicates based on specific columns (e.g., 'Name' and 'Age')\n",
    "\n",
    "Check duplicates based on 'Name' and 'Age' columns (modify the subset for your own columns):\n",
    "\n",
    "`duplicates_subset = df.duplicated(subset=['Name', 'Age'])`\n",
    "\n",
    "Count the number of duplicates in the subset:\n",
    "\n",
    "`num_duplicates_subset = duplicates_subset.sum()`\n",
    "\n",
    "Display no. of duplicate rows based on your column(s):\n",
    "\n",
    "`print(f\"\\nNumber of duplicate rows based on 'Name' and 'Age': {num_duplicates_subset}\")`\n"
   ]
  },
  {
   "cell_type": "markdown",
   "id": "d8b3bfe9",
   "metadata": {},
   "source": [
    "After reading the above, modify the code snippets to check for duplicate columns in your own data frame"
   ]
  },
  {
   "cell_type": "code",
   "execution_count": 85,
   "id": "8cf0f9d8",
   "metadata": {},
   "outputs": [],
   "source": [
    "duplicates_subset = df.duplicated(subset = ['title', 'directors'])"
   ]
  },
  {
   "cell_type": "code",
   "execution_count": 87,
   "id": "a6d1f7ef",
   "metadata": {},
   "outputs": [],
   "source": [
    "num_duplicates_subset = duplicates_subset.sum()"
   ]
  },
  {
   "cell_type": "code",
   "execution_count": 89,
   "id": "4d155faa",
   "metadata": {},
   "outputs": [
    {
     "name": "stdout",
     "output_type": "stream",
     "text": [
      "\n",
      "Number of duplicate rows based on 'title' and 'directors': 0\n"
     ]
    }
   ],
   "source": [
    "print(f\"\\nNumber of duplicate rows based on 'title' and 'directors': {num_duplicates_subset}\")"
   ]
  },
  {
   "cell_type": "markdown",
   "id": "a2da032a",
   "metadata": {},
   "source": [
    "If any duplicates exist within a column, remove them with the `.drop_duplicates()` function"
   ]
  },
  {
   "cell_type": "code",
   "execution_count": null,
   "id": "cc788657",
   "metadata": {},
   "outputs": [],
   "source": []
  },
  {
   "cell_type": "markdown",
   "id": "75965556",
   "metadata": {},
   "source": [
    "Write Python code to output the number of rows in your data frame."
   ]
  },
  {
   "cell_type": "code",
   "execution_count": 115,
   "id": "169d8c45-ca2c-4c14-8d7c-200fcd0dcadd",
   "metadata": {},
   "outputs": [
    {
     "name": "stdout",
     "output_type": "stream",
     "text": [
      "The number of rows in the DataFrame is: 8\n"
     ]
    }
   ],
   "source": [
    "num_rows = df.shape[0]\n",
    "print(f\"The number of rows in the DataFrame is: {num_rows}\")\n"
   ]
  },
  {
   "cell_type": "raw",
   "id": "6ea1810f-eb21-4aa4-978b-87209320e583",
   "metadata": {},
   "source": [
    "Compare the new value with the first time you outputted the number of rows above. Is it more, less, or the same? It is the same"
   ]
  },
  {
   "cell_type": "markdown",
   "id": "10a47f50",
   "metadata": {},
   "source": []
  },
  {
   "cell_type": "markdown",
   "id": "1a9df537",
   "metadata": {},
   "source": [
    "Create a subset of the data that matches a specific string in a column. That is, extract all rows of the original data frame that contain a specific string in one of the columns. Save the resulting data frame to a variable. (Add more cells if needed)"
   ]
  },
  {
   "cell_type": "code",
   "execution_count": 135,
   "id": "b4e0a375",
   "metadata": {},
   "outputs": [],
   "source": [
    "subset_df =df[\n",
    "df['title'].str.contains('Harry Potter', case=True, na=True)\n",
    "]\n",
    "                      "
   ]
  },
  {
   "cell_type": "code",
   "execution_count": 137,
   "id": "06498731",
   "metadata": {},
   "outputs": [
    {
     "name": "stdout",
     "output_type": "stream",
     "text": [
      "   position      const     created    modified  \\\n",
      "0         1  tt0241527  2017-12-24  2017-12-24   \n",
      "1         2  tt0295297  2017-12-24  2017-12-24   \n",
      "2         3  tt0304141  2017-12-24  2017-12-26   \n",
      "3         4  tt0330373  2017-12-24  2018-05-03   \n",
      "4         5  tt0373889  2017-12-24  2017-12-26   \n",
      "5         6  tt0417741  2017-12-24  2017-12-26   \n",
      "6         7  tt0926084  2017-12-24  2017-12-26   \n",
      "7         8  tt1201607  2017-12-24  2019-12-03   \n",
      "\n",
      "                                         description  \\\n",
      "0  Harry Potter <72:45>\\nRon Weasley <28:15>\\nHer...   \n",
      "1  Harry Potter <83:45>\\nRon Weasley <38:15>\\nHer...   \n",
      "2  Harry Potter <74:30>\\nHermione Granger <34:45>...   \n",
      "3  Harry Potter <63:15>\\nRon Weasley <20:30>\\nHer...   \n",
      "4  Harry Potter <61:45>\\nHermione Granger <23>\\nR...   \n",
      "5  Harry Potter <67>\\nProfessor Albus Dumbledore ...   \n",
      "6  Harry Potter <68:15>\\nHermione Granger <46>\\nR...   \n",
      "7  Harry Potter <48>\\nHermione Granger <26>\\nRon ...   \n",
      "\n",
      "                                          title  \\\n",
      "0         Harry Potter and the Sorcerer's Stone   \n",
      "1       Harry Potter and the Chamber of Secrets   \n",
      "2      Harry Potter and the Prisoner of Azkaban   \n",
      "3           Harry Potter and the Goblet of Fire   \n",
      "4     Harry Potter and the Order of the Phoenix   \n",
      "5        Harry Potter and the Half-Blood Prince   \n",
      "6  Harry Potter and the Deathly Hallows: Part 1   \n",
      "7  Harry Potter and the Deathly Hallows: Part 2   \n",
      "\n",
      "                                     url title_type  imdb_rating  \\\n",
      "0  https://www.imdb.com/title/tt0241527/      movie          7.6   \n",
      "1  https://www.imdb.com/title/tt0295297/      movie          7.4   \n",
      "2  https://www.imdb.com/title/tt0304141/      movie          7.9   \n",
      "3  https://www.imdb.com/title/tt0330373/      movie          7.7   \n",
      "4  https://www.imdb.com/title/tt0373889/      movie          7.5   \n",
      "5  https://www.imdb.com/title/tt0417741/      movie          7.6   \n",
      "6  https://www.imdb.com/title/tt0926084/      movie          7.7   \n",
      "7  https://www.imdb.com/title/tt1201607/      movie          8.1   \n",
      "\n",
      "   runtime_mins  year                                       genres  num_votes  \\\n",
      "0           152  2001                   Adventure, Family, Fantasy     650096   \n",
      "1           161  2002          Adventure, Family, Fantasy, Mystery     550312   \n",
      "2           142  2004          Adventure, Family, Fantasy, Mystery     547889   \n",
      "3           157  2005          Adventure, Family, Fantasy, Mystery     544246   \n",
      "4           138  2007  Action, Adventure, Family, Fantasy, Mystery     507042   \n",
      "5           153  2009  Action, Adventure, Family, Fantasy, Mystery     470620   \n",
      "6           146  2010          Adventure, Family, Fantasy, Mystery     475018   \n",
      "7           130  2011           Adventure, Drama, Fantasy, Mystery     758851   \n",
      "\n",
      "  release_date       directors  \n",
      "0   2001-11-04  Chris Columbus  \n",
      "1   2002-11-03  Chris Columbus  \n",
      "2   2004-05-23  Alfonso Cuarón  \n",
      "3   2005-11-06     Mike Newell  \n",
      "4   2007-06-28     David Yates  \n",
      "5   2009-07-06     David Yates  \n",
      "6   2010-11-11     David Yates  \n",
      "7   2011-07-07     David Yates  \n"
     ]
    }
   ],
   "source": [
    "print(subset_df)"
   ]
  },
  {
   "cell_type": "markdown",
   "id": "8ce688ed",
   "metadata": {},
   "source": [
    "Output the length of the resulting data frame (the subset of your data for which the conditional was true)."
   ]
  },
  {
   "cell_type": "code",
   "execution_count": 147,
   "id": "bd2ab816",
   "metadata": {},
   "outputs": [
    {
     "name": "stdout",
     "output_type": "stream",
     "text": [
      "The number of rows in the subset DataFrame is: 8\n"
     ]
    }
   ],
   "source": [
    "num_rows_subset = subset_df.shape[0]\n",
    "print(\"The number of rows in the subset DataFrame is:\",\n",
    "      num_rows_subset)"
   ]
  },
  {
   "cell_type": "markdown",
   "id": "ad96d460",
   "metadata": {},
   "source": [
    "Output the first ten rows of your data set, the last ten rows of your data set, and a random ten rows of your data set (a sample of your data)."
   ]
  },
  {
   "cell_type": "code",
   "execution_count": 149,
   "id": "1bf71cb0",
   "metadata": {},
   "outputs": [
    {
     "name": "stdout",
     "output_type": "stream",
     "text": [
      "First ten rows of the DataFrame:\n",
      "   position      const     created    modified  \\\n",
      "0         1  tt0241527  2017-12-24  2017-12-24   \n",
      "1         2  tt0295297  2017-12-24  2017-12-24   \n",
      "2         3  tt0304141  2017-12-24  2017-12-26   \n",
      "3         4  tt0330373  2017-12-24  2018-05-03   \n",
      "4         5  tt0373889  2017-12-24  2017-12-26   \n",
      "5         6  tt0417741  2017-12-24  2017-12-26   \n",
      "6         7  tt0926084  2017-12-24  2017-12-26   \n",
      "7         8  tt1201607  2017-12-24  2019-12-03   \n",
      "\n",
      "                                         description  \\\n",
      "0  Harry Potter <72:45>\\nRon Weasley <28:15>\\nHer...   \n",
      "1  Harry Potter <83:45>\\nRon Weasley <38:15>\\nHer...   \n",
      "2  Harry Potter <74:30>\\nHermione Granger <34:45>...   \n",
      "3  Harry Potter <63:15>\\nRon Weasley <20:30>\\nHer...   \n",
      "4  Harry Potter <61:45>\\nHermione Granger <23>\\nR...   \n",
      "5  Harry Potter <67>\\nProfessor Albus Dumbledore ...   \n",
      "6  Harry Potter <68:15>\\nHermione Granger <46>\\nR...   \n",
      "7  Harry Potter <48>\\nHermione Granger <26>\\nRon ...   \n",
      "\n",
      "                                          title  \\\n",
      "0         Harry Potter and the Sorcerer's Stone   \n",
      "1       Harry Potter and the Chamber of Secrets   \n",
      "2      Harry Potter and the Prisoner of Azkaban   \n",
      "3           Harry Potter and the Goblet of Fire   \n",
      "4     Harry Potter and the Order of the Phoenix   \n",
      "5        Harry Potter and the Half-Blood Prince   \n",
      "6  Harry Potter and the Deathly Hallows: Part 1   \n",
      "7  Harry Potter and the Deathly Hallows: Part 2   \n",
      "\n",
      "                                     url title_type  imdb_rating  \\\n",
      "0  https://www.imdb.com/title/tt0241527/      movie          7.6   \n",
      "1  https://www.imdb.com/title/tt0295297/      movie          7.4   \n",
      "2  https://www.imdb.com/title/tt0304141/      movie          7.9   \n",
      "3  https://www.imdb.com/title/tt0330373/      movie          7.7   \n",
      "4  https://www.imdb.com/title/tt0373889/      movie          7.5   \n",
      "5  https://www.imdb.com/title/tt0417741/      movie          7.6   \n",
      "6  https://www.imdb.com/title/tt0926084/      movie          7.7   \n",
      "7  https://www.imdb.com/title/tt1201607/      movie          8.1   \n",
      "\n",
      "   runtime_mins  year                                       genres  num_votes  \\\n",
      "0           152  2001                   Adventure, Family, Fantasy     650096   \n",
      "1           161  2002          Adventure, Family, Fantasy, Mystery     550312   \n",
      "2           142  2004          Adventure, Family, Fantasy, Mystery     547889   \n",
      "3           157  2005          Adventure, Family, Fantasy, Mystery     544246   \n",
      "4           138  2007  Action, Adventure, Family, Fantasy, Mystery     507042   \n",
      "5           153  2009  Action, Adventure, Family, Fantasy, Mystery     470620   \n",
      "6           146  2010          Adventure, Family, Fantasy, Mystery     475018   \n",
      "7           130  2011           Adventure, Drama, Fantasy, Mystery     758851   \n",
      "\n",
      "  release_date       directors  \n",
      "0   2001-11-04  Chris Columbus  \n",
      "1   2002-11-03  Chris Columbus  \n",
      "2   2004-05-23  Alfonso Cuarón  \n",
      "3   2005-11-06     Mike Newell  \n",
      "4   2007-06-28     David Yates  \n",
      "5   2009-07-06     David Yates  \n",
      "6   2010-11-11     David Yates  \n",
      "7   2011-07-07     David Yates  \n"
     ]
    }
   ],
   "source": [
    "print(\"First ten rows of the DataFrame:\")\n",
    "print(df.tail(10))"
   ]
  },
  {
   "cell_type": "code",
   "execution_count": 155,
   "id": "59e6227f",
   "metadata": {},
   "outputs": [
    {
     "name": "stdout",
     "output_type": "stream",
     "text": [
      "\n",
      "Random ten rows of the DataFrame:\n",
      "   position      const     created    modified  \\\n",
      "0         1  tt0241527  2017-12-24  2017-12-24   \n",
      "1         2  tt0295297  2017-12-24  2017-12-24   \n",
      "2         3  tt0304141  2017-12-24  2017-12-26   \n",
      "3         4  tt0330373  2017-12-24  2018-05-03   \n",
      "4         5  tt0373889  2017-12-24  2017-12-26   \n",
      "5         6  tt0417741  2017-12-24  2017-12-26   \n",
      "6         7  tt0926084  2017-12-24  2017-12-26   \n",
      "7         8  tt1201607  2017-12-24  2019-12-03   \n",
      "\n",
      "                                         description  \\\n",
      "0  Harry Potter <72:45>\\nRon Weasley <28:15>\\nHer...   \n",
      "1  Harry Potter <83:45>\\nRon Weasley <38:15>\\nHer...   \n",
      "2  Harry Potter <74:30>\\nHermione Granger <34:45>...   \n",
      "3  Harry Potter <63:15>\\nRon Weasley <20:30>\\nHer...   \n",
      "4  Harry Potter <61:45>\\nHermione Granger <23>\\nR...   \n",
      "5  Harry Potter <67>\\nProfessor Albus Dumbledore ...   \n",
      "6  Harry Potter <68:15>\\nHermione Granger <46>\\nR...   \n",
      "7  Harry Potter <48>\\nHermione Granger <26>\\nRon ...   \n",
      "\n",
      "                                          title  \\\n",
      "0         Harry Potter and the Sorcerer's Stone   \n",
      "1       Harry Potter and the Chamber of Secrets   \n",
      "2      Harry Potter and the Prisoner of Azkaban   \n",
      "3           Harry Potter and the Goblet of Fire   \n",
      "4     Harry Potter and the Order of the Phoenix   \n",
      "5        Harry Potter and the Half-Blood Prince   \n",
      "6  Harry Potter and the Deathly Hallows: Part 1   \n",
      "7  Harry Potter and the Deathly Hallows: Part 2   \n",
      "\n",
      "                                     url title_type  imdb_rating  \\\n",
      "0  https://www.imdb.com/title/tt0241527/      movie          7.6   \n",
      "1  https://www.imdb.com/title/tt0295297/      movie          7.4   \n",
      "2  https://www.imdb.com/title/tt0304141/      movie          7.9   \n",
      "3  https://www.imdb.com/title/tt0330373/      movie          7.7   \n",
      "4  https://www.imdb.com/title/tt0373889/      movie          7.5   \n",
      "5  https://www.imdb.com/title/tt0417741/      movie          7.6   \n",
      "6  https://www.imdb.com/title/tt0926084/      movie          7.7   \n",
      "7  https://www.imdb.com/title/tt1201607/      movie          8.1   \n",
      "\n",
      "   runtime_mins  year                                       genres  num_votes  \\\n",
      "0           152  2001                   Adventure, Family, Fantasy     650096   \n",
      "1           161  2002          Adventure, Family, Fantasy, Mystery     550312   \n",
      "2           142  2004          Adventure, Family, Fantasy, Mystery     547889   \n",
      "3           157  2005          Adventure, Family, Fantasy, Mystery     544246   \n",
      "4           138  2007  Action, Adventure, Family, Fantasy, Mystery     507042   \n",
      "5           153  2009  Action, Adventure, Family, Fantasy, Mystery     470620   \n",
      "6           146  2010          Adventure, Family, Fantasy, Mystery     475018   \n",
      "7           130  2011           Adventure, Drama, Fantasy, Mystery     758851   \n",
      "\n",
      "  release_date       directors  \n",
      "0   2001-11-04  Chris Columbus  \n",
      "1   2002-11-03  Chris Columbus  \n",
      "2   2004-05-23  Alfonso Cuarón  \n",
      "3   2005-11-06     Mike Newell  \n",
      "4   2007-06-28     David Yates  \n",
      "5   2009-07-06     David Yates  \n",
      "6   2010-11-11     David Yates  \n",
      "7   2011-07-07     David Yates  \n"
     ]
    }
   ],
   "source": [
    "print(\"\\nRandom ten rows of the DataFrame:\")\n",
    "print(df.tail(10))"
   ]
  },
  {
   "cell_type": "code",
   "execution_count": 165,
   "id": "e3585e15",
   "metadata": {},
   "outputs": [
    {
     "name": "stdout",
     "output_type": "stream",
     "text": [
      "\n",
      "Random {num_rows} rows of the DataFrame (as it has fewer than 10 rows):\n",
      "   position      const     created    modified  \\\n",
      "0         1  tt0241527  2017-12-24  2017-12-24   \n",
      "2         3  tt0304141  2017-12-24  2017-12-26   \n",
      "6         7  tt0926084  2017-12-24  2017-12-26   \n",
      "5         6  tt0417741  2017-12-24  2017-12-26   \n",
      "7         8  tt1201607  2017-12-24  2019-12-03   \n",
      "1         2  tt0295297  2017-12-24  2017-12-24   \n",
      "4         5  tt0373889  2017-12-24  2017-12-26   \n",
      "3         4  tt0330373  2017-12-24  2018-05-03   \n",
      "\n",
      "                                         description  \\\n",
      "0  Harry Potter <72:45>\\nRon Weasley <28:15>\\nHer...   \n",
      "2  Harry Potter <74:30>\\nHermione Granger <34:45>...   \n",
      "6  Harry Potter <68:15>\\nHermione Granger <46>\\nR...   \n",
      "5  Harry Potter <67>\\nProfessor Albus Dumbledore ...   \n",
      "7  Harry Potter <48>\\nHermione Granger <26>\\nRon ...   \n",
      "1  Harry Potter <83:45>\\nRon Weasley <38:15>\\nHer...   \n",
      "4  Harry Potter <61:45>\\nHermione Granger <23>\\nR...   \n",
      "3  Harry Potter <63:15>\\nRon Weasley <20:30>\\nHer...   \n",
      "\n",
      "                                          title  \\\n",
      "0         Harry Potter and the Sorcerer's Stone   \n",
      "2      Harry Potter and the Prisoner of Azkaban   \n",
      "6  Harry Potter and the Deathly Hallows: Part 1   \n",
      "5        Harry Potter and the Half-Blood Prince   \n",
      "7  Harry Potter and the Deathly Hallows: Part 2   \n",
      "1       Harry Potter and the Chamber of Secrets   \n",
      "4     Harry Potter and the Order of the Phoenix   \n",
      "3           Harry Potter and the Goblet of Fire   \n",
      "\n",
      "                                     url title_type  imdb_rating  \\\n",
      "0  https://www.imdb.com/title/tt0241527/      movie          7.6   \n",
      "2  https://www.imdb.com/title/tt0304141/      movie          7.9   \n",
      "6  https://www.imdb.com/title/tt0926084/      movie          7.7   \n",
      "5  https://www.imdb.com/title/tt0417741/      movie          7.6   \n",
      "7  https://www.imdb.com/title/tt1201607/      movie          8.1   \n",
      "1  https://www.imdb.com/title/tt0295297/      movie          7.4   \n",
      "4  https://www.imdb.com/title/tt0373889/      movie          7.5   \n",
      "3  https://www.imdb.com/title/tt0330373/      movie          7.7   \n",
      "\n",
      "   runtime_mins  year                                       genres  num_votes  \\\n",
      "0           152  2001                   Adventure, Family, Fantasy     650096   \n",
      "2           142  2004          Adventure, Family, Fantasy, Mystery     547889   \n",
      "6           146  2010          Adventure, Family, Fantasy, Mystery     475018   \n",
      "5           153  2009  Action, Adventure, Family, Fantasy, Mystery     470620   \n",
      "7           130  2011           Adventure, Drama, Fantasy, Mystery     758851   \n",
      "1           161  2002          Adventure, Family, Fantasy, Mystery     550312   \n",
      "4           138  2007  Action, Adventure, Family, Fantasy, Mystery     507042   \n",
      "3           157  2005          Adventure, Family, Fantasy, Mystery     544246   \n",
      "\n",
      "  release_date       directors  \n",
      "0   2001-11-04  Chris Columbus  \n",
      "2   2004-05-23  Alfonso Cuarón  \n",
      "6   2010-11-11     David Yates  \n",
      "5   2009-07-06     David Yates  \n",
      "7   2011-07-07     David Yates  \n",
      "1   2002-11-03  Chris Columbus  \n",
      "4   2007-06-28     David Yates  \n",
      "3   2005-11-06     Mike Newell  \n"
     ]
    }
   ],
   "source": [
    "print(\"\\nRandom {num_rows} rows of the DataFrame (as it has fewer than 10 rows):\")\n",
    "print(df.sample(num_rows))"
   ]
  },
  {
   "cell_type": "markdown",
   "id": "7e96f519",
   "metadata": {},
   "source": [
    "## Bonus\n",
    "\n",
    "You may want to refer to the [Pandas Cheat Sheet](https://pandas.pydata.org/Pandas_Cheat_Sheet.pdf)."
   ]
  },
  {
   "cell_type": "markdown",
   "id": "4c6d9319",
   "metadata": {},
   "source": [
    "Sort your data frame by a particular column and output the result."
   ]
  },
  {
   "cell_type": "code",
   "execution_count": null,
   "id": "fab623b1",
   "metadata": {},
   "outputs": [],
   "source": []
  },
  {
   "cell_type": "code",
   "execution_count": null,
   "id": "2797159d",
   "metadata": {},
   "outputs": [],
   "source": []
  },
  {
   "cell_type": "markdown",
   "id": "4cbd44ef",
   "metadata": {},
   "source": [
    "Pick a column in your data set with numeric data (integers or floats). Output the mean (average) and median of that column."
   ]
  },
  {
   "cell_type": "code",
   "execution_count": null,
   "id": "5fcd45c6",
   "metadata": {},
   "outputs": [],
   "source": []
  }
 ],
 "metadata": {
  "kernelspec": {
   "display_name": "Python 3 (ipykernel)",
   "language": "python",
   "name": "python3"
  },
  "language_info": {
   "codemirror_mode": {
    "name": "ipython",
    "version": 3
   },
   "file_extension": ".py",
   "mimetype": "text/x-python",
   "name": "python",
   "nbconvert_exporter": "python",
   "pygments_lexer": "ipython3",
   "version": "3.12.4"
  }
 },
 "nbformat": 4,
 "nbformat_minor": 5
}
